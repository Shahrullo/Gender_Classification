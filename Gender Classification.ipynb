{
 "cells": [
  {
   "cell_type": "markdown",
   "metadata": {},
   "source": [
    "# Gender Classification Project\n",
    "\n",
    "In this notebook we will use [Gender Classification Dataset](https://www.kaggle.com/cashutosh/gender-classification-dataset) from Kaggle. This is a dataset with cropped images of male and female. It is split into training and validation directory. Training contains ~23,000 images of each class and validation directory contains ~5,500 iamges of each class. Our *goal* is to correctly predict gender: `male` or `female`. \n",
    "\n",
    "To achieve better result, we will use [ResNet](https://arxiv.org/abs/1512.03385)(Residual Network) model variants. ResNet was designed for the [ImageNet challenge](http://www.image-net.org/challenges/LSVRC/), and won it in 2015."
   ]
  },
  {
   "cell_type": "code",
   "execution_count": null,
   "metadata": {},
   "outputs": [],
   "source": []
  }
 ],
 "metadata": {
  "kernelspec": {
   "display_name": "Python 3",
   "language": "python",
   "name": "python3"
  },
  "language_info": {
   "codemirror_mode": {
    "name": "ipython",
    "version": 3
   },
   "file_extension": ".py",
   "mimetype": "text/x-python",
   "name": "python",
   "nbconvert_exporter": "python",
   "pygments_lexer": "ipython3",
   "version": "3.8.5"
  }
 },
 "nbformat": 4,
 "nbformat_minor": 4
}
